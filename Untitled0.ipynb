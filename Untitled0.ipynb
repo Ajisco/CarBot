{
 "cells": [
  {
   "cell_type": "code",
   "execution_count": 1,
   "metadata": {
    "collapsed": false,
    "executionInfo": {
     "elapsed": 6,
     "status": "ok",
     "timestamp": 1655661161121,
     "user": {
      "displayName": "Raphael Akinkunmi",
      "userId": "15997913956995563864"
     },
     "user_tz": -60
    },
    "id": "iZEv2mFhyBXV"
   },
   "outputs": [
    {
     "name": "stderr",
     "output_type": "stream",
     "text": [
      "Matplotlib is building the font cache; this may take a moment.\n"
     ]
    }
   ],
   "source": [
    "#Imports\n",
    "import os\n",
    "import numpy as np\n",
    "import matplotlib.pyplot as plt\n",
    "import tensorflow as tf\n",
    "keras = tf.keras"
   ]
  },
  {
   "cell_type": "code",
   "execution_count": 2,
   "metadata": {
    "collapsed": true,
    "executionInfo": {
     "elapsed": 7,
     "status": "ok",
     "timestamp": 1655661162556,
     "user": {
      "displayName": "Raphael Akinkunmi",
      "userId": "15997913956995563864"
     },
     "user_tz": -60
    },
    "id": "EqiE36wTiNeh"
   },
   "outputs": [],
   "source": [
    "#import caer ,canaro"
   ]
  },
  {
   "cell_type": "code",
   "execution_count": 5,
   "metadata": {
    "collapsed": false,
    "scrolled": true
   },
   "outputs": [
    {
     "name": "stdout",
     "output_type": "stream",
     "text": [
      "Collecting tensorflow_hub\n",
      "  Downloading tensorflow_hub-0.12.0-py2.py3-none-any.whl (108 kB)\n",
      "Requirement already satisfied: protobuf>=3.8.0 in c:\\users\\hp\\anaconda3\\lib\\site-packages (from tensorflow_hub) (3.19.4)\n",
      "Requirement already satisfied: numpy>=1.12.0 in c:\\users\\hp\\anaconda3\\lib\\site-packages (from tensorflow_hub) (1.20.1)\n",
      "Installing collected packages: tensorflow-hub\n",
      "Successfully installed tensorflow-hub-0.12.0\n"
     ]
    }
   ],
   "source": [
    "!pip install tensorflow_hub"
   ]
  },
  {
   "cell_type": "code",
   "execution_count": 7,
   "metadata": {
    "collapsed": false
   },
   "outputs": [
    {
     "name": "stdout",
     "output_type": "stream",
     "text": [
      "Collecting tensorflow_datasets\n",
      "  Downloading tensorflow_datasets-4.6.0-py3-none-any.whl (4.3 MB)\n",
      "Collecting importlib-resources\n",
      "  Downloading importlib_resources-5.8.0-py3-none-any.whl (28 kB)\n",
      "Requirement already satisfied: termcolor in c:\\users\\hp\\anaconda3\\lib\\site-packages (from tensorflow_datasets) (1.1.0)\n",
      "Requirement already satisfied: absl-py in c:\\users\\hp\\anaconda3\\lib\\site-packages (from tensorflow_datasets) (1.1.0)\n",
      "Collecting tensorflow-metadata\n",
      "  Downloading tensorflow_metadata-1.9.0-py3-none-any.whl (51 kB)\n",
      "Requirement already satisfied: numpy in c:\\users\\hp\\anaconda3\\lib\\site-packages (from tensorflow_datasets) (1.20.1)\n",
      "Collecting etils[epath]\n",
      "  Downloading etils-0.6.0-py3-none-any.whl (98 kB)\n",
      "Collecting promise\n",
      "  Downloading promise-2.3.tar.gz (19 kB)\n",
      "Requirement already satisfied: protobuf>=3.12.2 in c:\\users\\hp\\anaconda3\\lib\\site-packages (from tensorflow_datasets) (3.19.4)\n",
      "Requirement already satisfied: toml in c:\\users\\hp\\anaconda3\\lib\\site-packages (from tensorflow_datasets) (0.10.2)\n",
      "Requirement already satisfied: requests>=2.19.0 in c:\\users\\hp\\anaconda3\\lib\\site-packages (from tensorflow_datasets) (2.25.1)\n",
      "Requirement already satisfied: six in c:\\users\\hp\\anaconda3\\lib\\site-packages (from tensorflow_datasets) (1.15.0)\n",
      "Requirement already satisfied: tqdm in c:\\users\\hp\\anaconda3\\lib\\site-packages (from tensorflow_datasets) (4.59.0)\n",
      "Collecting dill\n",
      "  Downloading dill-0.3.5.1-py2.py3-none-any.whl (95 kB)\n",
      "Requirement already satisfied: chardet<5,>=3.0.2 in c:\\users\\hp\\anaconda3\\lib\\site-packages (from requests>=2.19.0->tensorflow_datasets) (4.0.0)\n",
      "Requirement already satisfied: certifi>=2017.4.17 in c:\\users\\hp\\anaconda3\\lib\\site-packages (from requests>=2.19.0->tensorflow_datasets) (2020.12.5)\n",
      "Requirement already satisfied: idna<3,>=2.5 in c:\\users\\hp\\anaconda3\\lib\\site-packages (from requests>=2.19.0->tensorflow_datasets) (2.10)\n",
      "Requirement already satisfied: urllib3<1.27,>=1.21.1 in c:\\users\\hp\\anaconda3\\lib\\site-packages (from requests>=2.19.0->tensorflow_datasets) (1.26.4)\n",
      "Requirement already satisfied: zipp in c:\\users\\hp\\anaconda3\\lib\\site-packages (from etils[epath]->tensorflow_datasets) (3.4.1)\n",
      "Requirement already satisfied: typing_extensions in c:\\users\\hp\\anaconda3\\lib\\site-packages (from etils[epath]->tensorflow_datasets) (3.7.4.3)\n",
      "Collecting googleapis-common-protos<2,>=1.52.0\n",
      "  Downloading googleapis_common_protos-1.56.3-py2.py3-none-any.whl (211 kB)\n",
      "Building wheels for collected packages: promise\n",
      "  Building wheel for promise (setup.py): started\n",
      "  Building wheel for promise (setup.py): finished with status 'done'\n",
      "  Created wheel for promise: filename=promise-2.3-py3-none-any.whl size=21494 sha256=e9944c72a389ba7c744687a87ede131ef7067fb7169941f2e27efc051ba7d356\n",
      "  Stored in directory: c:\\users\\hp\\appdata\\local\\pip\\cache\\wheels\\54\\aa\\01\\724885182f93150035a2a91bce34a12877e8067a97baaf5dc8\n",
      "Successfully built promise\n",
      "Installing collected packages: etils, importlib-resources, googleapis-common-protos, tensorflow-metadata, promise, dill, tensorflow-datasets\n",
      "Successfully installed dill-0.3.5.1 etils-0.6.0 googleapis-common-protos-1.56.3 importlib-resources-5.8.0 promise-2.3 tensorflow-datasets-4.6.0 tensorflow-metadata-1.9.0\n"
     ]
    }
   ],
   "source": [
    "!pip install tensorflow_datasets"
   ]
  },
  {
   "cell_type": "code",
   "execution_count": 8,
   "metadata": {
    "collapsed": true,
    "id": "LP_BeBG_BLS-"
   },
   "outputs": [],
   "source": [
    "\n",
    "import tensorflow_hub as hub\n",
    "import numpy as np\n",
    "import pandas as pd\n",
    "import os\n",
    "import PIL\n",
    "import PIL.Image\n",
    "import tensorflow as tf\n",
    "import tensorflow_datasets as tfds\n",
    "import pathlib\n",
    "from __future__ import absolute_import, division, print_function, unicode_literals\n",
    "#from google.colab import drive\n",
    "\n",
    "pd.set_option(\"display.precision\", 8)"
   ]
  },
  {
   "cell_type": "code",
   "execution_count": 9,
   "metadata": {
    "colab": {
     "base_uri": "https://localhost:8080/"
    },
    "collapsed": true,
    "executionInfo": {
     "elapsed": 5414,
     "status": "ok",
     "timestamp": 1655649618477,
     "user": {
      "displayName": "Raphael Akinkunmi",
      "userId": "15997913956995563864"
     },
     "user_tz": -60
    },
    "id": "4J1aCrqnMSd1",
    "outputId": "bad36713-ec85-48c5-e6a4-b89b441d67e2"
   },
   "outputs": [],
   "source": [
    "#drive.mount(\"/content/gdrive\", force_remount=True)"
   ]
  },
  {
   "cell_type": "code",
   "execution_count": 12,
   "metadata": {
    "colab": {
     "base_uri": "https://localhost:8080/"
    },
    "collapsed": true,
    "executionInfo": {
     "elapsed": 489,
     "status": "ok",
     "timestamp": 1655655245905,
     "user": {
      "displayName": "Raphael Akinkunmi",
      "userId": "15997913956995563864"
     },
     "user_tz": -60
    },
    "id": "m3oDMGbENz_v",
    "outputId": "2c178103-ed2c-4346-8e08-abbd1c5879e3"
   },
   "outputs": [],
   "source": [
    "#import os\n",
    "\n",
    "#os.environ['my_env'] = \"/content/gdrive/My Drive/My Project/Images/\"\n",
    "\n",
    "#%cd /content/gdrive/My Drive/My Project/Images\n",
    "\n",
    "#import pathlib\n",
    "\n",
    "data_root = 'Images/' "
   ]
  },
  {
   "cell_type": "code",
   "execution_count": 13,
   "metadata": {
    "colab": {
     "base_uri": "https://localhost:8080/"
    },
    "collapsed": false,
    "executionInfo": {
     "elapsed": 816,
     "status": "ok",
     "timestamp": 1655655386190,
     "user": {
      "displayName": "Raphael Akinkunmi",
      "userId": "15997913956995563864"
     },
     "user_tz": -60
    },
    "id": "s8oZiNp3Mtfy",
    "outputId": "033a5b40-6672-42c3-8ac7-19a70ef1e47c"
   },
   "outputs": [
    {
     "name": "stdout",
     "output_type": "stream",
     "text": [
      "Images/\n",
      "Found 31 images belonging to 5 classes.\n",
      "Found 128 images belonging to 5 classes.\n"
     ]
    }
   ],
   "source": [
    "#import pathlib\n",
    "data = pathlib.Path('Images/') \n",
    "\n",
    "from keras.preprocessing import image\n",
    "from keras.preprocessing.image import ImageDataGenerator\n",
    "\n",
    "# create a data generator for traning and val\n",
    "IMAGE_SHAPE = (224, 224)\n",
    "TRAINING_DATA_DIR = str(data_root)\n",
    "print(TRAINING_DATA_DIR);\n",
    "datagen_kwargs = dict(rescale=1./255, validation_split=.20)\n",
    "valid_datagen = tf.keras.preprocessing.image.ImageDataGenerator(**datagen_kwargs)\n",
    "valid_generator = valid_datagen.flow_from_directory(\n",
    "TRAINING_DATA_DIR,\n",
    "subset=\"validation\",\n",
    "shuffle=True,\n",
    "target_size=IMAGE_SHAPE\n",
    ")\n",
    "train_datagen = tf.keras.preprocessing.image.ImageDataGenerator(**datagen_kwargs)\n",
    "train_generator = train_datagen.flow_from_directory(\n",
    "TRAINING_DATA_DIR, \n",
    "subset=\"training\",\n",
    "shuffle=True,\n",
    "target_size=IMAGE_SHAPE)"
   ]
  },
  {
   "cell_type": "code",
   "execution_count": 14,
   "metadata": {
    "colab": {
     "base_uri": "https://localhost:8080/"
    },
    "collapsed": false,
    "executionInfo": {
     "elapsed": 9651,
     "status": "ok",
     "timestamp": 1655655436797,
     "user": {
      "displayName": "Raphael Akinkunmi",
      "userId": "15997913956995563864"
     },
     "user_tz": -60
    },
    "id": "Eiqzsl_4wKEZ",
    "outputId": "3cecc817-073b-4cb1-f69b-210773721e55"
   },
   "outputs": [
    {
     "name": "stdout",
     "output_type": "stream",
     "text": [
      "Image batch shape:  (32, 224, 224, 3)\n",
      "Label batch shape:  (32, 5)\n",
      "['Abs System' 'Airbag Srs' 'Battery Charge' 'Check Engine'\n",
      " 'Diesel Particulate Filter']\n"
     ]
    }
   ],
   "source": [
    "image_batch_train, label_batch_train = next(iter(train_generator))\n",
    "print(\"Image batch shape: \", image_batch_train.shape)\n",
    "print(\"Label batch shape: \", label_batch_train.shape)\n",
    "dataset_labels = sorted(train_generator.class_indices.items(), key=lambda pair:pair[1])\n",
    "dataset_labels = np.array([key.title() for key, value in dataset_labels])\n",
    "print(dataset_labels)"
   ]
  },
  {
   "cell_type": "code",
   "execution_count": 15,
   "metadata": {
    "colab": {
     "base_uri": "https://localhost:8080/"
    },
    "collapsed": false,
    "executionInfo": {
     "elapsed": 3544,
     "status": "ok",
     "timestamp": 1655655600395,
     "user": {
      "displayName": "Raphael Akinkunmi",
      "userId": "15997913956995563864"
     },
     "user_tz": -60
    },
    "id": "47XKkc7nwgVV",
    "outputId": "4f48a2fc-b02c-4a04-e821-bd677d13e169"
   },
   "outputs": [
    {
     "name": "stdout",
     "output_type": "stream",
     "text": [
      "Model: \"sequential\"\n",
      "_________________________________________________________________\n",
      " Layer (type)                Output Shape              Param #   \n",
      "=================================================================\n",
      " keras_layer (KerasLayer)    (None, 1280)              2257984   \n",
      "                                                                 \n",
      " dropout (Dropout)           (None, 1280)              0         \n",
      "                                                                 \n",
      " dense (Dense)               (None, 5)                 6405      \n",
      "                                                                 \n",
      "=================================================================\n",
      "Total params: 2,264,389\n",
      "Trainable params: 6,405\n",
      "Non-trainable params: 2,257,984\n",
      "_________________________________________________________________\n"
     ]
    }
   ],
   "source": [
    "model = tf.keras.Sequential([\n",
    "hub.KerasLayer(\"https://tfhub.dev/google/tf2-preview/mobilenet_v2/feature_vector/4\",\n",
    "output_shape=[1280],\n",
    "trainable=False),\n",
    "tf.keras.layers.Dropout(0.4),\n",
    "tf.keras.layers.Dense(train_generator.num_classes, activation='softmax')\n",
    "])\n",
    "model.build([None, 224, 224, 3])\n",
    "model.summary()\n",
    "model.compile(\n",
    "optimizer=tf.keras.optimizers.Adam(),\n",
    "loss='categorical_crossentropy',\n",
    "metrics=['acc'])"
   ]
  },
  {
   "cell_type": "code",
   "execution_count": 16,
   "metadata": {
    "colab": {
     "base_uri": "https://localhost:8080/"
    },
    "collapsed": false,
    "executionInfo": {
     "elapsed": 158190,
     "status": "ok",
     "timestamp": 1655655791727,
     "user": {
      "displayName": "Raphael Akinkunmi",
      "userId": "15997913956995563864"
     },
     "user_tz": -60
    },
    "id": "R_FrztRlwgYe",
    "outputId": "70d76640-a5e4-41de-ab50-231ae3796487"
   },
   "outputs": [
    {
     "name": "stdout",
     "output_type": "stream",
     "text": [
      "Epoch 1/10\n",
      "4/4 [==============================] - 11s 2s/step - loss: 1.9312 - acc: 0.2031 - val_loss: 1.5251 - val_acc: 0.3871\n",
      "Epoch 2/10\n",
      "4/4 [==============================] - 4s 1s/step - loss: 1.4147 - acc: 0.4062 - val_loss: 1.2921 - val_acc: 0.4516\n",
      "Epoch 3/10\n",
      "4/4 [==============================] - 4s 1s/step - loss: 1.0884 - acc: 0.5625 - val_loss: 0.9937 - val_acc: 0.5806\n",
      "Epoch 4/10\n",
      "4/4 [==============================] - 4s 1s/step - loss: 0.8210 - acc: 0.6719 - val_loss: 0.7661 - val_acc: 0.7419\n",
      "Epoch 5/10\n",
      "4/4 [==============================] - 4s 1s/step - loss: 0.6222 - acc: 0.8203 - val_loss: 0.6109 - val_acc: 0.8387\n",
      "Epoch 6/10\n",
      "4/4 [==============================] - 4s 1s/step - loss: 0.5461 - acc: 0.8359 - val_loss: 0.5135 - val_acc: 0.8710\n",
      "Epoch 7/10\n",
      "4/4 [==============================] - 4s 1s/step - loss: 0.4200 - acc: 0.8594 - val_loss: 0.4614 - val_acc: 0.8710\n",
      "Epoch 8/10\n",
      "4/4 [==============================] - 4s 1s/step - loss: 0.3392 - acc: 0.9141 - val_loss: 0.4142 - val_acc: 0.8710\n",
      "Epoch 9/10\n",
      "4/4 [==============================] - 4s 1s/step - loss: 0.2211 - acc: 0.9609 - val_loss: 0.3604 - val_acc: 0.8710\n",
      "Epoch 10/10\n",
      "4/4 [==============================] - 4s 1s/step - loss: 0.2194 - acc: 0.9297 - val_loss: 0.3127 - val_acc: 0.8710\n"
     ]
    }
   ],
   "source": [
    "steps_per_epoch = np.ceil(train_generator.samples/train_generator.batch_size)\n",
    "val_steps_per_epoch = np.ceil(valid_generator.samples/valid_generator.batch_size)\n",
    "hist = model.fit(\n",
    "train_generator,\n",
    "epochs=10,\n",
    "verbose=1,\n",
    "steps_per_epoch=steps_per_epoch,\n",
    "validation_data=valid_generator,\n",
    "validation_steps=val_steps_per_epoch).history"
   ]
  },
  {
   "cell_type": "code",
   "execution_count": 17,
   "metadata": {
    "colab": {
     "base_uri": "https://localhost:8080/"
    },
    "collapsed": false,
    "executionInfo": {
     "elapsed": 15426,
     "status": "ok",
     "timestamp": 1655656340437,
     "user": {
      "displayName": "Raphael Akinkunmi",
      "userId": "15997913956995563864"
     },
     "user_tz": -60
    },
    "id": "02i8HlrMwgbO",
    "outputId": "559eb55f-c7cc-44b0-c33f-df8bd4dc0437"
   },
   "outputs": [
    {
     "name": "stdout",
     "output_type": "stream",
     "text": [
      "INFO:tensorflow:Assets written to: saved_models/cars\\assets\n"
     ]
    },
    {
     "name": "stderr",
     "output_type": "stream",
     "text": [
      "INFO:tensorflow:Assets written to: saved_models/cars\\assets\n"
     ]
    }
   ],
   "source": [
    "CARS_SAVED_MODEL = \"saved_models/cars\"\n",
    "model.save(CARS_SAVED_MODEL) #save model \n",
    "\n",
    "# reload model \n",
    "cars_model = keras.models.load_model(CARS_SAVED_MODEL, custom_objects={'KerasLayer':hub.KerasLayer} )"
   ]
  },
  {
   "cell_type": "code",
   "execution_count": 21,
   "metadata": {
    "colab": {
     "base_uri": "https://localhost:8080/"
    },
    "collapsed": false,
    "executionInfo": {
     "elapsed": 436,
     "status": "ok",
     "timestamp": 1655661190083,
     "user": {
      "displayName": "Raphael Akinkunmi",
      "userId": "15997913956995563864"
     },
     "user_tz": -60
    },
    "id": "DOsIphq0xuTB",
    "outputId": "a74ae158-0240-4410-9963-a4a7741cb164"
   },
   "outputs": [
    {
     "name": "stdout",
     "output_type": "stream",
     "text": [
      "Validation batch shape: (31, 224, 224, 3)\n"
     ]
    }
   ],
   "source": [
    "# Get images and labels batch from validation dataset generator\n",
    "\n",
    "val_image_batch, val_label_batch = next(iter(valid_generator))\n",
    "true_label_ids = np.argmax(val_label_batch, axis=-1)\n",
    "print(\"Validation batch shape:\", val_image_batch.shape)"
   ]
  },
  {
   "cell_type": "code",
   "execution_count": 24,
   "metadata": {
    "collapsed": false
   },
   "outputs": [
    {
     "name": "stdout",
     "output_type": "stream",
     "text": [
      "1/1 [==============================] - 1s 821ms/step\n"
     ]
    },
    {
     "data": {
      "text/plain": [
       "array([0.01235651, 0.0048735 , 0.9505305 , 0.03029438, 0.00194516],\n",
       "      dtype=float32)"
      ]
     },
     "execution_count": 24,
     "metadata": {},
     "output_type": "execute_result"
    }
   ],
   "source": [
    "tf_model_predictions = cars_model.predict(val_image_batch)\n",
    "tf_model_predictions[1]"
   ]
  },
  {
   "cell_type": "code",
   "execution_count": 28,
   "metadata": {
    "collapsed": false
   },
   "outputs": [
    {
     "name": "stdout",
     "output_type": "stream",
     "text": [
      "Battery Charge\n"
     ]
    }
   ],
   "source": [
    "# Getting class with the highest probability\n",
    "print(dataset_labels[np.argmax(tf_model_predictions[1])])"
   ]
  },
  {
   "cell_type": "code",
   "execution_count": null,
   "metadata": {
    "collapsed": true
   },
   "outputs": [],
   "source": []
  },
  {
   "cell_type": "code",
   "execution_count": null,
   "metadata": {
    "collapsed": true
   },
   "outputs": [],
   "source": []
  },
  {
   "cell_type": "code",
   "execution_count": 19,
   "metadata": {
    "colab": {
     "base_uri": "https://localhost:8080/",
     "height": 324
    },
    "collapsed": false,
    "executionInfo": {
     "elapsed": 3050,
     "status": "ok",
     "timestamp": 1655661218593,
     "user": {
      "displayName": "Raphael Akinkunmi",
      "userId": "15997913956995563864"
     },
     "user_tz": -60
    },
    "id": "Y5tU_46vxuWH",
    "outputId": "34fd3d7f-e4af-44dd-f117-c137370d27f8"
   },
   "outputs": [
    {
     "name": "stdout",
     "output_type": "stream",
     "text": [
      "1/1 [==============================] - 1s 1s/step\n",
      "Prediction results for the first elements\n"
     ]
    },
    {
     "data": {
      "text/html": [
       "<div>\n",
       "<style scoped>\n",
       "    .dataframe tbody tr th:only-of-type {\n",
       "        vertical-align: middle;\n",
       "    }\n",
       "\n",
       "    .dataframe tbody tr th {\n",
       "        vertical-align: top;\n",
       "    }\n",
       "\n",
       "    .dataframe thead th {\n",
       "        text-align: right;\n",
       "    }\n",
       "</style>\n",
       "<table border=\"1\" class=\"dataframe\">\n",
       "  <thead>\n",
       "    <tr style=\"text-align: right;\">\n",
       "      <th></th>\n",
       "      <th>Abs System</th>\n",
       "      <th>Airbag Srs</th>\n",
       "      <th>Battery Charge</th>\n",
       "      <th>Check Engine</th>\n",
       "      <th>Diesel Particulate Filter</th>\n",
       "    </tr>\n",
       "  </thead>\n",
       "  <tbody>\n",
       "    <tr>\n",
       "      <th>0</th>\n",
       "      <td>0.00317902</td>\n",
       "      <td>0.27816483</td>\n",
       "      <td>0.04533033</td>\n",
       "      <td>0.66951162</td>\n",
       "      <td>0.00381418</td>\n",
       "    </tr>\n",
       "    <tr>\n",
       "      <th>1</th>\n",
       "      <td>0.00484931</td>\n",
       "      <td>0.05488189</td>\n",
       "      <td>0.05620703</td>\n",
       "      <td>0.86472750</td>\n",
       "      <td>0.01933424</td>\n",
       "    </tr>\n",
       "    <tr>\n",
       "      <th>2</th>\n",
       "      <td>0.00222765</td>\n",
       "      <td>0.95936739</td>\n",
       "      <td>0.01768634</td>\n",
       "      <td>0.01399002</td>\n",
       "      <td>0.00672864</td>\n",
       "    </tr>\n",
       "    <tr>\n",
       "      <th>3</th>\n",
       "      <td>0.01654143</td>\n",
       "      <td>0.87978709</td>\n",
       "      <td>0.08210796</td>\n",
       "      <td>0.01972390</td>\n",
       "      <td>0.00183960</td>\n",
       "    </tr>\n",
       "    <tr>\n",
       "      <th>4</th>\n",
       "      <td>0.73683959</td>\n",
       "      <td>0.06340922</td>\n",
       "      <td>0.03426602</td>\n",
       "      <td>0.14862368</td>\n",
       "      <td>0.01686147</td>\n",
       "    </tr>\n",
       "  </tbody>\n",
       "</table>\n",
       "</div>"
      ],
      "text/plain": [
       "   Abs System  Airbag Srs  Battery Charge  Check Engine  \\\n",
       "0  0.00317902  0.27816483      0.04533033    0.66951162   \n",
       "1  0.00484931  0.05488189      0.05620703    0.86472750   \n",
       "2  0.00222765  0.95936739      0.01768634    0.01399002   \n",
       "3  0.01654143  0.87978709      0.08210796    0.01972390   \n",
       "4  0.73683959  0.06340922      0.03426602    0.14862368   \n",
       "\n",
       "   Diesel Particulate Filter  \n",
       "0                 0.00381418  \n",
       "1                 0.01933424  \n",
       "2                 0.00672864  \n",
       "3                 0.00183960  \n",
       "4                 0.01686147  "
      ]
     },
     "execution_count": 19,
     "metadata": {},
     "output_type": "execute_result"
    }
   ],
   "source": [
    "# Testing Model\n",
    "\n",
    "tf_model_predictions = cars_model.predict(val_image_batch)\n",
    "tf_pred_dataframe = pd.DataFrame(tf_model_predictions)\n",
    "tf_pred_dataframe.columns = dataset_labels\n",
    "print(\"Prediction results for the first elements\")\n",
    "tf_pred_dataframe.head()"
   ]
  },
  {
   "cell_type": "code",
   "execution_count": 20,
   "metadata": {
    "colab": {
     "base_uri": "https://localhost:8080/",
     "height": 412
    },
    "collapsed": false,
    "executionInfo": {
     "elapsed": 2206,
     "status": "ok",
     "timestamp": 1655661331353,
     "user": {
      "displayName": "Raphael Akinkunmi",
      "userId": "15997913956995563864"
     },
     "user_tz": -60
    },
    "id": "loQWt66NxuY6",
    "outputId": "fcd7b634-ba46-4f8a-e067-711b53a564e3"
   },
   "outputs": [
    {
     "data": {
      "image/png": "[encoded data removed]",
      "text/plain": [
       "<Figure size 720x648 with 20 Axes>"
      ]
     },
     "metadata": {
      "needs_background": "light"
     },
     "output_type": "display_data"
    }
   ],
   "source": [
    "# Print images batch and labels predictions\n",
    "\n",
    "predicted_ids = np.argmax(tf_model_predictions, axis=-1)\n",
    "predicted_labels = dataset_labels[predicted_ids]\n",
    "plt.figure(figsize=(10,9))\n",
    "plt.subplots_adjust(hspace=0.5)\n",
    "for n in range(20):\n",
    "    plt.subplot(6,5,n+1)\n",
    "    plt.imshow(val_image_batch[n])\n",
    "    color = \"green\" if predicted_ids[n] == true_label_ids[n] else \"red\"\n",
    "    plt.title(predicted_labels[n].title(), color=color)\n",
    "    plt.axis('off')\n",
    "    _ = plt.suptitle(\"Model predictions (green: correct, red: incorrect)\")"
   ]
  },
  {
   "cell_type": "code",
   "execution_count": null,
   "metadata": {
    "collapsed": true,
    "id": "gPJ363DZxub3"
   },
   "outputs": [],
   "source": []
  },
  {
   "cell_type": "code",
   "execution_count": null,
   "metadata": {
    "collapsed": true,
    "id": "GKwOpPlPxue1"
   },
   "outputs": [],
   "source": []
  },
  {
   "cell_type": "code",
   "execution_count": null,
   "metadata": {
    "collapsed": true,
    "id": "BA8Yphe1xujv"
   },
   "outputs": [],
   "source": []
  },
  {
   "cell_type": "code",
   "execution_count": null,
   "metadata": {
    "collapsed": true,
    "id": "sNl9drxCwgeH"
   },
   "outputs": [],
   "source": []
  },
  {
   "cell_type": "code",
   "execution_count": null,
   "metadata": {
    "collapsed": true,
    "id": "-kM1OSA1wggr"
   },
   "outputs": [],
   "source": []
  },
  {
   "cell_type": "code",
   "execution_count": null,
   "metadata": {
    "colab": {
     "base_uri": "https://localhost:8080/"
    },
    "collapsed": false,
    "executionInfo": {
     "elapsed": 13,
     "status": "ok",
     "timestamp": 1655652047154,
     "user": {
      "displayName": "Raphael Akinkunmi",
      "userId": "15997913956995563864"
     },
     "user_tz": -60
    },
    "id": "1qzCXeCmhw5N",
    "outputId": "bd24e123-e787-4b8c-ff5d-c3bdc167b483"
   },
   "outputs": [
    {
     "data": {
      "text/plain": [
       "[('Check Engine', 48),\n",
       " ('Tyre Pressure', 31),\n",
       " ('Airbag SRS', 30),\n",
       " ('Battery Charge', 30),\n",
       " ('Diesel Particulate Filter', 26),\n",
       " ('ABS System', 26),\n",
       " ('Brake System', 25),\n",
       " ('Oil Pressure', 23),\n",
       " ('High Engine Coolant Temperature', 21),\n",
       " ('Low Fuel', 12),\n",
       " ('Parking Brake', 12),\n",
       " ('Electric Power Steering', 12),\n",
       " ('Master System Warning', 10),\n",
       " ('New Images', 6),\n",
       " ('Fuel Filter', 5),\n",
       " ('ADBlue', 0)]"
      ]
     },
     "execution_count": 45,
     "metadata": {},
     "output_type": "execute_result"
    }
   ],
   "source": [
    "# To check the number of images in a Folder\n",
    "# Creating a character dictionary, sorting it in descending order\n",
    "\n",
    "char_path = \"/content/gdrive/My Drive/My Project/Images/\"\n",
    "\n",
    "char_dict = {}\n",
    "for char in os.listdir(char_path):\n",
    "  char_dict[char] =  len(os.listdir(os.path.join(char_path, char)))\n",
    "\n",
    "# Sort in descending order\n",
    "char_dict =  caer.sort_dict(char_dict, descending =  True)\n",
    "char_dict"
   ]
  },
  {
   "cell_type": "code",
   "execution_count": null,
   "metadata": {
    "colab": {
     "base_uri": "https://localhost:8080/"
    },
    "collapsed": false,
    "executionInfo": {
     "elapsed": 14,
     "status": "ok",
     "timestamp": 1655652049485,
     "user": {
      "displayName": "Raphael Akinkunmi",
      "userId": "15997913956995563864"
     },
     "user_tz": -60
    },
    "id": "WfK9fg2_ibWE",
    "outputId": "881c8cdb-f1fd-4eef-ae5d-ad47a20bbf91"
   },
   "outputs": [
    {
     "data": {
      "text/plain": [
       "['Check Engine',\n",
       " 'Tyre Pressure',\n",
       " 'Airbag SRS',\n",
       " 'Battery Charge',\n",
       " 'Diesel Particulate Filter',\n",
       " 'ABS System',\n",
       " 'Brake System',\n",
       " 'Oil Pressure',\n",
       " 'High Engine Coolant Temperature',\n",
       " 'Low Fuel',\n",
       " 'Parking Brake',\n",
       " 'Electric Power Steering',\n",
       " 'Master System Warning',\n",
       " 'New Images',\n",
       " 'Fuel Filter']"
      ]
     },
     "execution_count": 46,
     "metadata": {},
     "output_type": "execute_result"
    }
   ],
   "source": [
    "#  Getting the first 10 categories with the most number of images\n",
    "\n",
    "characters = []\n",
    "count = 0\n",
    "for i in char_dict:\n",
    "  characters.append(i[0])\n",
    "  count += 1\n",
    "  if count >= 15:\n",
    "    break\n",
    "\n",
    "characters"
   ]
  },
  {
   "cell_type": "code",
   "execution_count": null,
   "metadata": {
    "colab": {
     "base_uri": "https://localhost:8080/",
     "height": 251
    },
    "collapsed": false,
    "executionInfo": {
     "elapsed": 22,
     "status": "error",
     "timestamp": 1655652052232,
     "user": {
      "displayName": "Raphael Akinkunmi",
      "userId": "15997913956995563864"
     },
     "user_tz": -60
    },
    "id": "rqONOP0_im-b",
    "outputId": "573383b6-db66-4e11-c5c7-0f56425cfc80"
   },
   "outputs": [
    {
     "ename": "TypeError",
     "evalue": "ignored",
     "output_type": "error",
     "traceback": [
      "\u001b[0;31m---------------------------------------------------------------------------\u001b[0m",
      "\u001b[0;31mTypeError\u001b[0m                                 Traceback (most recent call last)",
      "\u001b[0;32m<ipython-input-47-656326804425>\u001b[0m in \u001b[0;36m<module>\u001b[0;34m()\u001b[0m\n\u001b[1;32m      1\u001b[0m \u001b[0;31m# Let's look at a one image\u001b[0m\u001b[0;34m\u001b[0m\u001b[0;34m\u001b[0m\u001b[0;34m\u001b[0m\u001b[0m\n\u001b[1;32m      2\u001b[0m \u001b[0mIMG_INDEX\u001b[0m \u001b[0;34m=\u001b[0m \u001b[0;36m7\u001b[0m  \u001b[0;31m# change this to look at other images\u001b[0m\u001b[0;34m\u001b[0m\u001b[0;34m\u001b[0m\u001b[0m\n\u001b[0;32m----> 3\u001b[0;31m \u001b[0mtrain_images\u001b[0m\u001b[0;34m,\u001b[0m \u001b[0mtest_images\u001b[0m \u001b[0;34m=\u001b[0m \u001b[0mtrain_images\u001b[0m \u001b[0;34m/\u001b[0m \u001b[0;36m255.0\u001b[0m\u001b[0;34m,\u001b[0m \u001b[0mtest_images\u001b[0m \u001b[0;34m/\u001b[0m \u001b[0;36m255.0\u001b[0m\u001b[0;34m\u001b[0m\u001b[0;34m\u001b[0m\u001b[0m\n\u001b[0m\u001b[1;32m      4\u001b[0m \u001b[0;34m\u001b[0m\u001b[0m\n\u001b[1;32m      5\u001b[0m \u001b[0mplt\u001b[0m\u001b[0;34m.\u001b[0m\u001b[0mimshow\u001b[0m\u001b[0;34m(\u001b[0m\u001b[0mtrain_generator\u001b[0m\u001b[0;34m[\u001b[0m\u001b[0mIMG_INDEX\u001b[0m\u001b[0;34m]\u001b[0m \u001b[0;34m,\u001b[0m\u001b[0mcmap\u001b[0m\u001b[0;34m=\u001b[0m\u001b[0mplt\u001b[0m\u001b[0;34m.\u001b[0m\u001b[0mcm\u001b[0m\u001b[0;34m.\u001b[0m\u001b[0mbinary\u001b[0m\u001b[0;34m)\u001b[0m\u001b[0;34m\u001b[0m\u001b[0;34m\u001b[0m\u001b[0m\n",
      "\u001b[0;31mTypeError\u001b[0m: unsupported operand type(s) for /: 'DirectoryIterator' and 'float'"
     ]
    }
   ],
   "source": [
    "# Let's look at a one image\n",
    "IMG_INDEX = 7  # change this to look at other images\n",
    "train_images, test_images = train_images / 255.0, test_images / 255.0\n",
    "\n",
    "plt.imshow(train_generator[IMG_INDEX] ,cmap=plt.cm.binary)\n",
    "plt.xlabel(characters[characters[IMG_INDEX][0]])\n",
    "plt.show()"
   ]
  },
  {
   "cell_type": "code",
   "execution_count": null,
   "metadata": {
    "colab": {
     "base_uri": "https://localhost:8080/",
     "height": 251
    },
    "collapsed": false,
    "executionInfo": {
     "elapsed": 19,
     "status": "error",
     "timestamp": 1655643254517,
     "user": {
      "displayName": "Raphael Akinkunmi",
      "userId": "15997913956995563864"
     },
     "user_tz": -60
    },
    "id": "raCnufN0A4FI",
    "outputId": "1f93580e-8b89-4653-98c2-7f0130c53c51"
   },
   "outputs": [
    {
     "ename": "NameError",
     "evalue": "ignored",
     "output_type": "error",
     "traceback": [
      "\u001b[0;31m---------------------------------------------------------------------------\u001b[0m",
      "\u001b[0;31mNameError\u001b[0m                                 Traceback (most recent call last)",
      "\u001b[0;32m<ipython-input-149-0b9f8c3774af>\u001b[0m in \u001b[0;36m<module>\u001b[0;34m()\u001b[0m\n\u001b[0;32m----> 1\u001b[0;31m \u001b[0mmodel\u001b[0m \u001b[0;34m=\u001b[0m \u001b[0mmodels\u001b[0m\u001b[0;34m.\u001b[0m\u001b[0mSequential\u001b[0m\u001b[0;34m(\u001b[0m\u001b[0;34m)\u001b[0m\u001b[0;34m\u001b[0m\u001b[0;34m\u001b[0m\u001b[0m\n\u001b[0m\u001b[1;32m      2\u001b[0m \u001b[0mmodel\u001b[0m\u001b[0;34m.\u001b[0m\u001b[0madd\u001b[0m\u001b[0;34m(\u001b[0m\u001b[0mlayers\u001b[0m\u001b[0;34m.\u001b[0m\u001b[0mConv2D\u001b[0m\u001b[0;34m(\u001b[0m\u001b[0;36m32\u001b[0m\u001b[0;34m,\u001b[0m \u001b[0;34m(\u001b[0m\u001b[0;36m3\u001b[0m\u001b[0;34m,\u001b[0m \u001b[0;36m3\u001b[0m\u001b[0;34m)\u001b[0m\u001b[0;34m,\u001b[0m \u001b[0mactivation\u001b[0m\u001b[0;34m=\u001b[0m\u001b[0;34m'relu'\u001b[0m\u001b[0;34m,\u001b[0m \u001b[0minput_shape\u001b[0m\u001b[0;34m=\u001b[0m\u001b[0;34m(\u001b[0m\u001b[0;36m32\u001b[0m\u001b[0;34m,\u001b[0m \u001b[0;36m32\u001b[0m\u001b[0;34m,\u001b[0m \u001b[0;36m3\u001b[0m\u001b[0;34m)\u001b[0m\u001b[0;34m)\u001b[0m\u001b[0;34m)\u001b[0m\u001b[0;34m\u001b[0m\u001b[0;34m\u001b[0m\u001b[0m\n\u001b[1;32m      3\u001b[0m \u001b[0mmodel\u001b[0m\u001b[0;34m.\u001b[0m\u001b[0madd\u001b[0m\u001b[0;34m(\u001b[0m\u001b[0mlayers\u001b[0m\u001b[0;34m.\u001b[0m\u001b[0mMaxPooling2D\u001b[0m\u001b[0;34m(\u001b[0m\u001b[0;34m(\u001b[0m\u001b[0;36m2\u001b[0m\u001b[0;34m,\u001b[0m \u001b[0;36m2\u001b[0m\u001b[0;34m)\u001b[0m\u001b[0;34m)\u001b[0m\u001b[0;34m)\u001b[0m\u001b[0;34m\u001b[0m\u001b[0;34m\u001b[0m\u001b[0m\n\u001b[1;32m      4\u001b[0m \u001b[0mmodel\u001b[0m\u001b[0;34m.\u001b[0m\u001b[0madd\u001b[0m\u001b[0;34m(\u001b[0m\u001b[0mlayers\u001b[0m\u001b[0;34m.\u001b[0m\u001b[0mConv2D\u001b[0m\u001b[0;34m(\u001b[0m\u001b[0;36m64\u001b[0m\u001b[0;34m,\u001b[0m \u001b[0;34m(\u001b[0m\u001b[0;36m3\u001b[0m\u001b[0;34m,\u001b[0m \u001b[0;36m3\u001b[0m\u001b[0;34m)\u001b[0m\u001b[0;34m,\u001b[0m \u001b[0mactivation\u001b[0m\u001b[0;34m=\u001b[0m\u001b[0;34m'relu'\u001b[0m\u001b[0;34m)\u001b[0m\u001b[0;34m)\u001b[0m\u001b[0;34m\u001b[0m\u001b[0;34m\u001b[0m\u001b[0m\n\u001b[1;32m      5\u001b[0m \u001b[0mmodel\u001b[0m\u001b[0;34m.\u001b[0m\u001b[0madd\u001b[0m\u001b[0;34m(\u001b[0m\u001b[0mlayers\u001b[0m\u001b[0;34m.\u001b[0m\u001b[0mMaxPooling2D\u001b[0m\u001b[0;34m(\u001b[0m\u001b[0;34m(\u001b[0m\u001b[0;36m2\u001b[0m\u001b[0;34m,\u001b[0m \u001b[0;36m2\u001b[0m\u001b[0;34m)\u001b[0m\u001b[0;34m)\u001b[0m\u001b[0;34m)\u001b[0m\u001b[0;34m\u001b[0m\u001b[0;34m\u001b[0m\u001b[0m\n",
      "\u001b[0;31mNameError\u001b[0m: name 'models' is not defined"
     ]
    }
   ],
   "source": [
    "model = models.Sequential()\n",
    "model.add(layers.Conv2D(32, (3, 3), activation='relu', input_shape=(32, 32, 3)))\n",
    "model.add(layers.MaxPooling2D((2, 2)))\n",
    "model.add(layers.Conv2D(64, (3, 3), activation='relu'))\n",
    "model.add(layers.MaxPooling2D((2, 2)))\n",
    "model.add(layers.Conv2D(64, (3, 3), activation='relu'))"
   ]
  },
  {
   "cell_type": "code",
   "execution_count": null,
   "metadata": {
    "collapsed": true,
    "id": "qsTBgbY-z1fh"
   },
   "outputs": [],
   "source": [
    "import caer\n",
    "import canaro"
   ]
  },
  {
   "cell_type": "code",
   "execution_count": null,
   "metadata": {
    "colab": {
     "base_uri": "https://localhost:8080/"
    },
    "collapsed": false,
    "executionInfo": {
     "elapsed": 4647,
     "status": "ok",
     "timestamp": 1655639991059,
     "user": {
      "displayName": "Raphael Akinkunmi",
      "userId": "15997913956995563864"
     },
     "user_tz": -60
    },
    "id": "ClsCPQntyEoh",
    "outputId": "5678f909-3f2c-458f-9469-6dde315bc456"
   },
   "outputs": [
    {
     "name": "stdout",
     "output_type": "stream",
     "text": [
      "Mounted at /content/gdrive\n"
     ]
    }
   ],
   "source": [
    "from google.colab import drive\n",
    "drive.mount(\"/content/gdrive\", force_remount=True)"
   ]
  },
  {
   "cell_type": "code",
   "execution_count": null,
   "metadata": {
    "colab": {
     "base_uri": "https://localhost:8080/"
    },
    "collapsed": false,
    "executionInfo": {
     "elapsed": 7,
     "status": "ok",
     "timestamp": 1655639992704,
     "user": {
      "displayName": "Raphael Akinkunmi",
      "userId": "15997913956995563864"
     },
     "user_tz": -60
    },
    "id": "Ov4822KWyGsd",
    "outputId": "02bb7704-8f0f-4a8c-d2fa-f73a5b5871f7"
   },
   "outputs": [
    {
     "name": "stdout",
     "output_type": "stream",
     "text": [
      "/content/gdrive/My Drive/My Project/Images\n"
     ]
    }
   ],
   "source": [
    "%cd /content/gdrive/My Drive/My Project/Images"
   ]
  },
  {
   "cell_type": "code",
   "execution_count": null,
   "metadata": {
    "collapsed": true,
    "id": "WLbKSu1BySnL"
   },
   "outputs": [],
   "source": [
    "import os\n",
    "os.environ['my_env'] = \"/content/gdrive/My Drive/My Project/Images/\""
   ]
  },
  {
   "cell_type": "code",
   "execution_count": null,
   "metadata": {
    "collapsed": true,
    "id": "KhiCfrvCzY25"
   },
   "outputs": [],
   "source": [
    "IMG_SIZE = (80, 80)\n",
    "channels = 1\n",
    "char_path = r'/content/gdrive/My Drive/My Project/Images'"
   ]
  },
  {
   "cell_type": "code",
   "execution_count": null,
   "metadata": {
    "collapsed": true,
    "id": "YgzuiovyBX-5"
   },
   "outputs": [],
   "source": [
    "from keras.preprocessing import image\n",
    "from keras.preprocessing.image import ImageDataGenerator\n",
    "\n",
    "# creates a data generator object that transforms images\n",
    "datagen = ImageDataGenerator(\n",
    "rotation_range=40,\n",
    "width_shift_range=0.2,\n",
    "height_shift_range=0.2,\n",
    "shear_range=0.2,\n",
    "zoom_range=0.2,\n",
    "horizontal_flip=True,\n",
    "fill_mode='nearest')\n",
    "\n",
    "# pick an image to transform\n",
    "test_img = train_images[20]\n",
    "img = image.img_to_array(test_img)  # convert image to numpy arry\n",
    "img = img.reshape((1,) + img.shape)  # reshape image\n",
    "\n",
    "i = 0\n",
    "\n",
    "for batch in datagen.flow(img, save_prefix='test', save_format='jpeg'):  \n",
    "    # this loops runs forever until we break, saving images to current directory with specified prefix\n",
    "    plt.figure(i)\n",
    "    plot = plt.imshow(image.img_to_array(batch[0]))\n",
    "    i += 1\n",
    "    if i > 4:  # show 4 images\n",
    "        break\n",
    "\n",
    "plt.show()\n"
   ]
  },
  {
   "cell_type": "code",
   "execution_count": null,
   "metadata": {
    "colab": {
     "base_uri": "https://localhost:8080/"
    },
    "collapsed": false,
    "executionInfo": {
     "elapsed": 8,
     "status": "ok",
     "timestamp": 1655639999955,
     "user": {
      "displayName": "Raphael Akinkunmi",
      "userId": "15997913956995563864"
     },
     "user_tz": -60
    },
    "id": "qVCgt4GYy3ch",
    "outputId": "db8f0496-fb60-486a-c084-7bc10913c374"
   },
   "outputs": [
    {
     "data": {
      "text/plain": [
       "[('Check Engine', 48),\n",
       " ('Tyre Pressure', 31),\n",
       " ('Airbag SRS', 30),\n",
       " ('Battery Charge', 30),\n",
       " ('Diesel Particulate Filter', 26),\n",
       " ('ABS System', 26),\n",
       " ('Brake System', 25),\n",
       " ('Oil Pressure', 23),\n",
       " ('High Engine Coolant Temperature', 21),\n",
       " ('Low Fuel', 12),\n",
       " ('Parking Brake', 12),\n",
       " ('Electric Power Steering', 12),\n",
       " ('Master System Warning', 10),\n",
       " ('New Images', 6),\n",
       " ('Fuel Filter', 5),\n",
       " ('ADBlue', 0)]"
      ]
     },
     "execution_count": 8,
     "metadata": {},
     "output_type": "execute_result"
    }
   ],
   "source": [
    "# To check the number of images in a Folder\n",
    "# Creating a character dictionary, sorting it in descending order\n",
    "\n",
    "char_dict = {}\n",
    "for char in os.listdir(char_path):\n",
    "  char_dict[char] =  len(os.listdir(os.path.join(char_path, char)))\n",
    "\n",
    "# Sort in descending order\n",
    "char_dict =  caer.sort_dict(char_dict, descending =  True)\n",
    "char_dict"
   ]
  },
  {
   "cell_type": "code",
   "execution_count": null,
   "metadata": {
    "colab": {
     "base_uri": "https://localhost:8080/"
    },
    "collapsed": false,
    "executionInfo": {
     "elapsed": 450,
     "status": "ok",
     "timestamp": 1655640002029,
     "user": {
      "displayName": "Raphael Akinkunmi",
      "userId": "15997913956995563864"
     },
     "user_tz": -60
    },
    "id": "Ew_DZYRSziiJ",
    "outputId": "c368e4d4-4e9e-43c7-da2a-d5678a487e52"
   },
   "outputs": [
    {
     "data": {
      "text/plain": [
       "['Check Engine',\n",
       " 'Tyre Pressure',\n",
       " 'Airbag SRS',\n",
       " 'Battery Charge',\n",
       " 'Diesel Particulate Filter',\n",
       " 'ABS System',\n",
       " 'Brake System',\n",
       " 'Oil Pressure',\n",
       " 'High Engine Coolant Temperature',\n",
       " 'Low Fuel']"
      ]
     },
     "execution_count": 9,
     "metadata": {},
     "output_type": "execute_result"
    }
   ],
   "source": [
    "#  Getting the first 10 categories with the most number of images\n",
    "\n",
    "characters = []\n",
    "count = 0\n",
    "for i in char_dict:\n",
    "  characters.append(i[0])\n",
    "  count += 1\n",
    "  if count >= 10:\n",
    "    break\n",
    "\n",
    "characters"
   ]
  },
  {
   "cell_type": "code",
   "execution_count": null,
   "metadata": {
    "colab": {
     "base_uri": "https://localhost:8080/"
    },
    "collapsed": false,
    "executionInfo": {
     "elapsed": 382,
     "status": "ok",
     "timestamp": 1655640836456,
     "user": {
      "displayName": "Raphael Akinkunmi",
      "userId": "15997913956995563864"
     },
     "user_tz": -60
    },
    "id": "SLE8uOAj0F4a",
    "outputId": "178cd0dd-7b6e-4a54-da09-84b707a032a1"
   },
   "outputs": [
    {
     "name": "stdout",
     "output_type": "stream",
     "text": [
      "[INFO] Could not find a file to load from. Generating the training data\n",
      "----------------------------------------------\n",
      "[INFO] 0 files found in 0.0019865036010742188s\n",
      "[INFO] 2 files found in 0.0013337135314941406s\n",
      "[INFO] 1 file found in 0.0012269020080566406s\n",
      "[INFO] 1 file found in 0.0014340877532958984s\n",
      "[INFO] 5 files found in 0.001279592514038086s\n",
      "[INFO] 1 file found in 0.001323699951171875s\n",
      "[INFO] 2 files found in 0.0011110305786132812s\n",
      "[INFO] 1 file found in 0.001071929931640625s\n",
      "[INFO] 1 file found in 0.0015413761138916016s\n",
      "[INFO] 0 files found in 0.0023963451385498047s\n",
      "----------------------------------------------\n",
      "[INFO] 14 files preprocessed! Took 0m 0s\n"
     ]
    }
   ],
   "source": [
    "# Create the training Data\n",
    "\n",
    "# If you dont want the progress displayed on the kernel, set verbosity to 0\n",
    "\n",
    "train = caer.preprocess_from_dir(char_path, characters, channels= channels, IMG_SIZE=IMG_SIZE, isShuffle = True)"
   ]
  },
  {
   "cell_type": "code",
   "execution_count": null,
   "metadata": {
    "colab": {
     "base_uri": "https://localhost:8080/"
    },
    "collapsed": false,
    "executionInfo": {
     "elapsed": 8,
     "status": "ok",
     "timestamp": 1655640837983,
     "user": {
      "displayName": "Raphael Akinkunmi",
      "userId": "15997913956995563864"
     },
     "user_tz": -60
    },
    "id": "fnKDlQUU0KgG",
    "outputId": "a3461bea-c84e-4bd2-9e77-824ff68eacce"
   },
   "outputs": [
    {
     "data": {
      "text/plain": [
       "14"
      ]
     },
     "execution_count": 47,
     "metadata": {},
     "output_type": "execute_result"
    }
   ],
   "source": [
    "# Number of training samples\n",
    "len(train)"
   ]
  },
  {
   "cell_type": "code",
   "execution_count": null,
   "metadata": {
    "colab": {
     "base_uri": "https://localhost:8080/",
     "height": 909
    },
    "collapsed": false,
    "executionInfo": {
     "elapsed": 1301,
     "status": "ok",
     "timestamp": 1655640840452,
     "user": {
      "displayName": "Raphael Akinkunmi",
      "userId": "15997913956995563864"
     },
     "user_tz": -60
    },
    "id": "Ck5fnAeW0PU9",
    "outputId": "c4aba887-cb2a-4a8b-98b7-04a80c124cc6"
   },
   "outputs": [
    {
     "data": {
      "image/png": "[encoded data removed]",
      "text/plain": [
       "<Figure size 2160x2160 with 1 Axes>"
      ]
     },
     "metadata": {
      "needs_background": "light"
     },
     "output_type": "display_data"
    }
   ],
   "source": [
    "# Visualizing the data (OpenCV doesn't display well in Jupyter notebooks)\n",
    "import matplotlib.pyplot as plt\n",
    "plt.figure(figsize = (30, 30))\n",
    "plt.imshow(train[0][0], cmap= 'gray')\n",
    "plt.show()"
   ]
  },
  {
   "cell_type": "code",
   "execution_count": null,
   "metadata": {
    "collapsed": true,
    "id": "2yZqv_bJ0R3H"
   },
   "outputs": [],
   "source": [
    "# Separating the array and corresponding labels\n",
    "featureSet, labels = caer.sep_train(train, IMG_SIZE=IMG_SIZE)"
   ]
  },
  {
   "cell_type": "code",
   "execution_count": null,
   "metadata": {
    "collapsed": true,
    "id": "ceoO8x0T0n4u"
   },
   "outputs": [],
   "source": [
    "from tensorflow.keras.utils import to_categorical\n",
    "\n",
    "# Normalize the featureSet ==> (0,1) to learn faster\n",
    "featureSet = caer.normalize(featureSet)\n",
    "\n",
    "# Converting numerical labels to binary class vectors\n",
    "labels = to_categorical(labels, len(characters))"
   ]
  },
  {
   "cell_type": "code",
   "execution_count": null,
   "metadata": {
    "collapsed": true,
    "id": "gFm1ZL0V0s1l"
   },
   "outputs": [],
   "source": [
    "x_train, x_val, y_train, y_val = caer.train_val_split(featureSet, labels,val_ratio=.2)"
   ]
  },
  {
   "cell_type": "code",
   "execution_count": null,
   "metadata": {
    "colab": {
     "base_uri": "https://localhost:8080/"
    },
    "collapsed": false,
    "executionInfo": {
     "elapsed": 486,
     "status": "ok",
     "timestamp": 1655640847148,
     "user": {
      "displayName": "Raphael Akinkunmi",
      "userId": "15997913956995563864"
     },
     "user_tz": -60
    },
    "id": "Hgg03S7A0vaS",
    "outputId": "f3588aa3-26c4-4c2a-a44e-54583448e30f"
   },
   "outputs": [
    {
     "data": {
      "text/plain": [
       "88"
      ]
     },
     "execution_count": 52,
     "metadata": {},
     "output_type": "execute_result"
    }
   ],
   "source": [
    "import gc\n",
    "del train\n",
    "del featureSet\n",
    "del labels \n",
    "gc.collect()"
   ]
  },
  {
   "cell_type": "code",
   "execution_count": null,
   "metadata": {
    "collapsed": true,
    "id": "B3iCJkqZ0xoc"
   },
   "outputs": [],
   "source": [
    "# Useful variables when training\n",
    "BATCH_SIZE = 16\n",
    "EPOCHS = 2"
   ]
  },
  {
   "cell_type": "code",
   "execution_count": null,
   "metadata": {
    "collapsed": true,
    "id": "-7Ge127j1iY8"
   },
   "outputs": [],
   "source": [
    "# Image data generator (introduces randomness in network ==> better accuracy)\n",
    "\n",
    "datagen = canaro.generators.imageDataGenerator()\n",
    "train_gen = datagen.flow(x_train, y_train, batch_size=BATCH_SIZE)"
   ]
  },
  {
   "cell_type": "code",
   "execution_count": null,
   "metadata": {
    "colab": {
     "base_uri": "https://localhost:8080/"
    },
    "collapsed": false,
    "executionInfo": {
     "elapsed": 1138,
     "status": "ok",
     "timestamp": 1655642160294,
     "user": {
      "displayName": "Raphael Akinkunmi",
      "userId": "15997913956995563864"
     },
     "user_tz": -60
    },
    "id": "wZsu8Bq41kcv",
    "outputId": "c6f8960f-f0dd-4bae-ba0a-0ea11e1f8e81"
   },
   "outputs": [
    {
     "name": "stderr",
     "output_type": "stream",
     "text": [
      "/usr/local/lib/python3.7/dist-packages/keras/optimizer_v2/gradient_descent.py:102: UserWarning: The `lr` argument is deprecated, use `learning_rate` instead.\n",
      "  super(SGD, self).__init__(name, **kwargs)\n"
     ]
    }
   ],
   "source": [
    "# Create our model (returns a compiled model)\n",
    "model = canaro.models.createSimpsonsModel(IMG_SIZE=IMG_SIZE, channels=channels, output_dim=len(characters), \n",
    "                                         loss='binary_crossentropy', decay=1e-7, learning_rate=0.001, momentum=0.9,\n",
    "                                         nesterov=True)"
   ]
  },
  {
   "cell_type": "code",
   "execution_count": null,
   "metadata": {
    "colab": {
     "base_uri": "https://localhost:8080/"
    },
    "collapsed": false,
    "executionInfo": {
     "elapsed": 87,
     "status": "ok",
     "timestamp": 1655642160296,
     "user": {
      "displayName": "Raphael Akinkunmi",
      "userId": "15997913956995563864"
     },
     "user_tz": -60
    },
    "id": "LF6_9Wof1nHj",
    "outputId": "85c35609-b1ea-40f7-d2b3-5fa98194f675"
   },
   "outputs": [
    {
     "name": "stdout",
     "output_type": "stream",
     "text": [
      "Model: \"sequential_27\"\n",
      "_________________________________________________________________\n",
      " Layer (type)                Output Shape              Param #   \n",
      "=================================================================\n",
      " conv2d_162 (Conv2D)         (None, 80, 80, 32)        320       \n",
      "                                                                 \n",
      " conv2d_163 (Conv2D)         (None, 78, 78, 32)        9248      \n",
      "                                                                 \n",
      " max_pooling2d_81 (MaxPoolin  (None, 39, 39, 32)       0         \n",
      " g2D)                                                            \n",
      "                                                                 \n",
      " dropout_108 (Dropout)       (None, 39, 39, 32)        0         \n",
      "                                                                 \n",
      " conv2d_164 (Conv2D)         (None, 39, 39, 64)        18496     \n",
      "                                                                 \n",
      " conv2d_165 (Conv2D)         (None, 37, 37, 64)        36928     \n",
      "                                                                 \n",
      " max_pooling2d_82 (MaxPoolin  (None, 18, 18, 64)       0         \n",
      " g2D)                                                            \n",
      "                                                                 \n",
      " dropout_109 (Dropout)       (None, 18, 18, 64)        0         \n",
      "                                                                 \n",
      " conv2d_166 (Conv2D)         (None, 18, 18, 256)       147712    \n",
      "                                                                 \n",
      " conv2d_167 (Conv2D)         (None, 16, 16, 256)       590080    \n",
      "                                                                 \n",
      " max_pooling2d_83 (MaxPoolin  (None, 8, 8, 256)        0         \n",
      " g2D)                                                            \n",
      "                                                                 \n",
      " dropout_110 (Dropout)       (None, 8, 8, 256)         0         \n",
      "                                                                 \n",
      " flatten_27 (Flatten)        (None, 16384)             0         \n",
      "                                                                 \n",
      " dropout_111 (Dropout)       (None, 16384)             0         \n",
      "                                                                 \n",
      " dense_40 (Dense)            (None, 1024)              16778240  \n",
      "                                                                 \n",
      " dense_41 (Dense)            (None, 10)                10250     \n",
      "                                                                 \n",
      "=================================================================\n",
      "Total params: 17,591,274\n",
      "Trainable params: 17,591,274\n",
      "Non-trainable params: 0\n",
      "_________________________________________________________________\n"
     ]
    }
   ],
   "source": [
    "model.summary()"
   ]
  },
  {
   "cell_type": "code",
   "execution_count": null,
   "metadata": {
    "collapsed": true,
    "id": "CyBITMPh1qgN"
   },
   "outputs": [],
   "source": [
    "# Training the model\n",
    "\n",
    "from tensorflow.keras.callbacks import LearningRateScheduler\n",
    "callbacks_list = [LearningRateScheduler(canaro.lr_schedule)]\n"
   ]
  },
  {
   "cell_type": "code",
   "execution_count": null,
   "metadata": {
    "colab": {
     "base_uri": "https://localhost:8080/",
     "height": 463
    },
    "collapsed": false,
    "executionInfo": {
     "elapsed": 31,
     "status": "error",
     "timestamp": 1655642160303,
     "user": {
      "displayName": "Raphael Akinkunmi",
      "userId": "15997913956995563864"
     },
     "user_tz": -60
    },
    "id": "9chsu0Dm1u-U",
    "outputId": "0d7ca858-57bb-4944-e19f-78dd0d315d78"
   },
   "outputs": [
    {
     "name": "stdout",
     "output_type": "stream",
     "text": [
      "Epoch 1/2\n"
     ]
    },
    {
     "ename": "ValueError",
     "evalue": "ignored",
     "output_type": "error",
     "traceback": [
      "\u001b[0;31m---------------------------------------------------------------------------\u001b[0m",
      "\u001b[0;31mValueError\u001b[0m                                Traceback (most recent call last)",
      "\u001b[0;32m<ipython-input-147-8b698e68ceb7>\u001b[0m in \u001b[0;36m<module>\u001b[0;34m()\u001b[0m\n\u001b[1;32m      4\u001b[0m                     \u001b[0mvalidation_data\u001b[0m\u001b[0;34m=\u001b[0m\u001b[0;34m(\u001b[0m\u001b[0mx_val\u001b[0m\u001b[0;34m,\u001b[0m\u001b[0my_val\u001b[0m\u001b[0;34m)\u001b[0m\u001b[0;34m,\u001b[0m\u001b[0;34m\u001b[0m\u001b[0;34m\u001b[0m\u001b[0m\n\u001b[1;32m      5\u001b[0m                     \u001b[0mvalidation_steps\u001b[0m\u001b[0;34m=\u001b[0m\u001b[0mlen\u001b[0m\u001b[0;34m(\u001b[0m\u001b[0my_val\u001b[0m\u001b[0;34m)\u001b[0m\u001b[0;34m//\u001b[0m\u001b[0mBATCH_SIZE\u001b[0m\u001b[0;34m,\u001b[0m\u001b[0;34m\u001b[0m\u001b[0;34m\u001b[0m\u001b[0m\n\u001b[0;32m----> 6\u001b[0;31m                     callbacks = callbacks_list)\n\u001b[0m",
      "\u001b[0;32m/usr/local/lib/python3.7/dist-packages/keras/utils/traceback_utils.py\u001b[0m in \u001b[0;36merror_handler\u001b[0;34m(*args, **kwargs)\u001b[0m\n\u001b[1;32m     65\u001b[0m     \u001b[0;32mexcept\u001b[0m \u001b[0mException\u001b[0m \u001b[0;32mas\u001b[0m \u001b[0me\u001b[0m\u001b[0;34m:\u001b[0m  \u001b[0;31m# pylint: disable=broad-except\u001b[0m\u001b[0;34m\u001b[0m\u001b[0;34m\u001b[0m\u001b[0m\n\u001b[1;32m     66\u001b[0m       \u001b[0mfiltered_tb\u001b[0m \u001b[0;34m=\u001b[0m \u001b[0m_process_traceback_frames\u001b[0m\u001b[0;34m(\u001b[0m\u001b[0me\u001b[0m\u001b[0;34m.\u001b[0m\u001b[0m__traceback__\u001b[0m\u001b[0;34m)\u001b[0m\u001b[0;34m\u001b[0m\u001b[0;34m\u001b[0m\u001b[0m\n\u001b[0;32m---> 67\u001b[0;31m       \u001b[0;32mraise\u001b[0m \u001b[0me\u001b[0m\u001b[0;34m.\u001b[0m\u001b[0mwith_traceback\u001b[0m\u001b[0;34m(\u001b[0m\u001b[0mfiltered_tb\u001b[0m\u001b[0;34m)\u001b[0m \u001b[0;32mfrom\u001b[0m \u001b[0;32mNone\u001b[0m\u001b[0;34m\u001b[0m\u001b[0;34m\u001b[0m\u001b[0m\n\u001b[0m\u001b[1;32m     68\u001b[0m     \u001b[0;32mfinally\u001b[0m\u001b[0;34m:\u001b[0m\u001b[0;34m\u001b[0m\u001b[0;34m\u001b[0m\u001b[0m\n\u001b[1;32m     69\u001b[0m       \u001b[0;32mdel\u001b[0m \u001b[0mfiltered_tb\u001b[0m\u001b[0;34m\u001b[0m\u001b[0;34m\u001b[0m\u001b[0m\n",
      "\u001b[0;32m/usr/local/lib/python3.7/dist-packages/keras/engine/training.py\u001b[0m in \u001b[0;36mfit\u001b[0;34m(self, x, y, batch_size, epochs, verbose, callbacks, validation_split, validation_data, shuffle, class_weight, sample_weight, initial_epoch, steps_per_epoch, validation_steps, validation_batch_size, validation_freq, max_queue_size, workers, use_multiprocessing)\u001b[0m\n\u001b[1;32m   1393\u001b[0m         \u001b[0mlogs\u001b[0m \u001b[0;34m=\u001b[0m \u001b[0mtf_utils\u001b[0m\u001b[0;34m.\u001b[0m\u001b[0msync_to_numpy_or_python_type\u001b[0m\u001b[0;34m(\u001b[0m\u001b[0mlogs\u001b[0m\u001b[0;34m)\u001b[0m\u001b[0;34m\u001b[0m\u001b[0;34m\u001b[0m\u001b[0m\n\u001b[1;32m   1394\u001b[0m         \u001b[0;32mif\u001b[0m \u001b[0mlogs\u001b[0m \u001b[0;32mis\u001b[0m \u001b[0;32mNone\u001b[0m\u001b[0;34m:\u001b[0m\u001b[0;34m\u001b[0m\u001b[0;34m\u001b[0m\u001b[0m\n\u001b[0;32m-> 1395\u001b[0;31m           raise ValueError('Unexpected result of `train_function` '\n\u001b[0m\u001b[1;32m   1396\u001b[0m                            \u001b[0;34m'(Empty logs). Please use '\u001b[0m\u001b[0;34m\u001b[0m\u001b[0;34m\u001b[0m\u001b[0m\n\u001b[1;32m   1397\u001b[0m                            \u001b[0;34m'`Model.compile(..., run_eagerly=True)`, or '\u001b[0m\u001b[0;34m\u001b[0m\u001b[0;34m\u001b[0m\u001b[0m\n",
      "\u001b[0;31mValueError\u001b[0m: Unexpected result of `train_function` (Empty logs). Please use `Model.compile(..., run_eagerly=True)`, or `tf.config.run_functions_eagerly(True)` for more information of where went wrong, or file a issue/bug to `tf.keras`."
     ]
    }
   ],
   "source": [
    "training = model.fit(train_gen,\n",
    "                    steps_per_epoch=len(x_train)//BATCH_SIZE,\n",
    "                    epochs=EPOCHS,\n",
    "                    validation_data=(x_val,y_val),\n",
    "                    validation_steps=len(y_val)//BATCH_SIZE,\n",
    "                    callbacks = callbacks_list)"
   ]
  },
  {
   "cell_type": "code",
   "execution_count": null,
   "metadata": {
    "collapsed": true,
    "id": "IyGxUjJl1xSC"
   },
   "outputs": [],
   "source": [
    "characters"
   ]
  },
  {
   "cell_type": "code",
   "execution_count": null,
   "metadata": {
    "collapsed": true,
    "id": "hsroxClV6wN-"
   },
   "outputs": [],
   "source": [
    "# TESTING\n",
    "import cv2 as cv\n",
    "test_path = r'/content/gdrive/My Drive/My Project/Images/Oil Pressure/Oil Pressure 2.JPG'\n",
    "\n",
    "img = cv.imread(test_path)\n",
    "\n",
    "image = plt.imread(test_path)\n",
    "plt.imshow(img)\n",
    "plt.show()\n"
   ]
  },
  {
   "cell_type": "code",
   "execution_count": null,
   "metadata": {
    "collapsed": true,
    "id": "40blOIp36ya_"
   },
   "outputs": [],
   "source": [
    "def prepare(image):\n",
    "    image = cv.cvtColor(image, cv.COLOR_BGR2GRAY)\n",
    "    image = cv.resize(image, IMG_SIZE)\n",
    "    image = caer.reshape(image, IMG_SIZE, 1)\n",
    "    return image"
   ]
  },
  {
   "cell_type": "code",
   "execution_count": null,
   "metadata": {
    "collapsed": true,
    "id": "wT-KZF978OEZ"
   },
   "outputs": [],
   "source": [
    "predictions = model.predict(prepare(img))"
   ]
  },
  {
   "cell_type": "code",
   "execution_count": null,
   "metadata": {
    "colab": {
     "base_uri": "https://localhost:8080/"
    },
    "collapsed": false,
    "executionInfo": {
     "elapsed": 8,
     "status": "ok",
     "timestamp": 1655642119325,
     "user": {
      "displayName": "Raphael Akinkunmi",
      "userId": "15997913956995563864"
     },
     "user_tz": -60
    },
    "id": "Hd-xb4zF8P2l",
    "outputId": "cddb6b73-033d-47a1-f309-e0ad368097ae"
   },
   "outputs": [
    {
     "name": "stdout",
     "output_type": "stream",
     "text": [
      "Diesel Particulate Filter\n"
     ]
    }
   ],
   "source": [
    "# Getting class with the highest probability\n",
    "print(characters[np.argmax(predictions[0])])"
   ]
  },
  {
   "cell_type": "code",
   "execution_count": null,
   "metadata": {
    "collapsed": true,
    "id": "NmpqgBf-8SAc"
   },
   "outputs": [],
   "source": []
  }
 ],
 "metadata": {
  "accelerator": "GPU",
  "colab": {
   "authorship_tag": "ABX9TyMCcf1gHRwOwbqdEqOA7+13",
   "name": "Untitled0.ipynb",
   "provenance": []
  },
  "gpuClass": "standard",
  "kernelspec": {
   "display_name": "Python 3",
   "language": "python",
   "name": "python3"
  },
  "language_info": {
   "codemirror_mode": {
    "name": "ipython",
    "version": 3
   },
   "file_extension": ".py",
   "mimetype": "text/x-python",
   "name": "python",
   "nbconvert_exporter": "python",
   "pygments_lexer": "ipython3",
   "version": "3.6.0"
  }
 },
 "nbformat": 4,
 "nbformat_minor": 1
}
